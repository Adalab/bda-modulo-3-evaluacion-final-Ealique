{
 "cells": [
  {
   "cell_type": "code",
   "execution_count": 16,
   "metadata": {},
   "outputs": [],
   "source": [
    "#importacion de las librerias\n",
    "import pandas as pd\n",
    "import numpy as np\n",
    "import matplotlib.pyplot as plt\n",
    "import seaborn as sns"
   ]
  },
  {
   "cell_type": "code",
   "execution_count": 111,
   "metadata": {},
   "outputs": [],
   "source": [
    "# Imputación de nulos usando métodos avanzados estadísticos\n",
    "# -----------------------------------------------------------------------\n",
    "from sklearn.impute import SimpleImputer\n",
    "from sklearn.experimental import enable_iterative_imputer\n",
    "from sklearn.impute import IterativeImputer\n",
    "from sklearn.impute import KNNImputer\n",
    "\n"
   ]
  },
  {
   "cell_type": "code",
   "execution_count": 23,
   "metadata": {},
   "outputs": [],
   "source": [
    "# Configura la opción de visualización para mostrar todas las columnas del DataFrame, sin limitaciones.\n",
    "pd.set_option('display.max_columns', None)"
   ]
  },
  {
   "cell_type": "code",
   "execution_count": 24,
   "metadata": {},
   "outputs": [
    {
     "data": {
      "text/html": [
       "<div>\n",
       "<style scoped>\n",
       "    .dataframe tbody tr th:only-of-type {\n",
       "        vertical-align: middle;\n",
       "    }\n",
       "\n",
       "    .dataframe tbody tr th {\n",
       "        vertical-align: top;\n",
       "    }\n",
       "\n",
       "    .dataframe thead th {\n",
       "        text-align: right;\n",
       "    }\n",
       "</style>\n",
       "<table border=\"1\" class=\"dataframe\">\n",
       "  <thead>\n",
       "    <tr style=\"text-align: right;\">\n",
       "      <th></th>\n",
       "      <th>Year</th>\n",
       "      <th>Month</th>\n",
       "      <th>Flights Booked</th>\n",
       "      <th>Flights with Companions</th>\n",
       "      <th>Total Flights</th>\n",
       "      <th>Distance</th>\n",
       "      <th>Points Accumulated</th>\n",
       "      <th>Points Redeemed</th>\n",
       "      <th>Dollar Cost Points Redeemed</th>\n",
       "    </tr>\n",
       "    <tr>\n",
       "      <th>Loyalty Number</th>\n",
       "      <th></th>\n",
       "      <th></th>\n",
       "      <th></th>\n",
       "      <th></th>\n",
       "      <th></th>\n",
       "      <th></th>\n",
       "      <th></th>\n",
       "      <th></th>\n",
       "      <th></th>\n",
       "    </tr>\n",
       "  </thead>\n",
       "  <tbody>\n",
       "    <tr>\n",
       "      <th>100018</th>\n",
       "      <td>2017</td>\n",
       "      <td>1</td>\n",
       "      <td>3</td>\n",
       "      <td>0</td>\n",
       "      <td>3</td>\n",
       "      <td>1521</td>\n",
       "      <td>152.0</td>\n",
       "      <td>0</td>\n",
       "      <td>0</td>\n",
       "    </tr>\n",
       "    <tr>\n",
       "      <th>100102</th>\n",
       "      <td>2017</td>\n",
       "      <td>1</td>\n",
       "      <td>10</td>\n",
       "      <td>4</td>\n",
       "      <td>14</td>\n",
       "      <td>2030</td>\n",
       "      <td>203.0</td>\n",
       "      <td>0</td>\n",
       "      <td>0</td>\n",
       "    </tr>\n",
       "    <tr>\n",
       "      <th>100140</th>\n",
       "      <td>2017</td>\n",
       "      <td>1</td>\n",
       "      <td>6</td>\n",
       "      <td>0</td>\n",
       "      <td>6</td>\n",
       "      <td>1200</td>\n",
       "      <td>120.0</td>\n",
       "      <td>0</td>\n",
       "      <td>0</td>\n",
       "    </tr>\n",
       "    <tr>\n",
       "      <th>100214</th>\n",
       "      <td>2017</td>\n",
       "      <td>1</td>\n",
       "      <td>0</td>\n",
       "      <td>0</td>\n",
       "      <td>0</td>\n",
       "      <td>0</td>\n",
       "      <td>0.0</td>\n",
       "      <td>0</td>\n",
       "      <td>0</td>\n",
       "    </tr>\n",
       "    <tr>\n",
       "      <th>100272</th>\n",
       "      <td>2017</td>\n",
       "      <td>1</td>\n",
       "      <td>0</td>\n",
       "      <td>0</td>\n",
       "      <td>0</td>\n",
       "      <td>0</td>\n",
       "      <td>0.0</td>\n",
       "      <td>0</td>\n",
       "      <td>0</td>\n",
       "    </tr>\n",
       "  </tbody>\n",
       "</table>\n",
       "</div>"
      ],
      "text/plain": [
       "                Year  Month  Flights Booked  Flights with Companions  \\\n",
       "Loyalty Number                                                         \n",
       "100018          2017      1               3                        0   \n",
       "100102          2017      1              10                        4   \n",
       "100140          2017      1               6                        0   \n",
       "100214          2017      1               0                        0   \n",
       "100272          2017      1               0                        0   \n",
       "\n",
       "                Total Flights  Distance  Points Accumulated  Points Redeemed  \\\n",
       "Loyalty Number                                                                 \n",
       "100018                      3      1521               152.0                0   \n",
       "100102                     14      2030               203.0                0   \n",
       "100140                      6      1200               120.0                0   \n",
       "100214                      0         0                 0.0                0   \n",
       "100272                      0         0                 0.0                0   \n",
       "\n",
       "                Dollar Cost Points Redeemed  \n",
       "Loyalty Number                               \n",
       "100018                                    0  \n",
       "100102                                    0  \n",
       "100140                                    0  \n",
       "100214                                    0  \n",
       "100272                                    0  "
      ]
     },
     "execution_count": 24,
     "metadata": {},
     "output_type": "execute_result"
    }
   ],
   "source": [
    "## 2. importacion de los datos Customer Flight Analysis.csv\n",
    "\n",
    "df_vuelos_clientes = pd.read_csv(\"./Files./Customer_Flight_Activity.csv\", index_col=0)# La primera columna del archivo será utilizada como índice.\n",
    "df_vuelos_clientes.head()\n"
   ]
  },
  {
   "cell_type": "code",
   "execution_count": null,
   "metadata": {},
   "outputs": [
    {
     "data": {
      "text/plain": [
       "<bound method DataFrame.info of                 Year  Month  Flights Booked  Flights with Companions  \\\n",
       "Loyalty Number                                                         \n",
       "100018          2017      1               3                        0   \n",
       "100102          2017      1              10                        4   \n",
       "100140          2017      1               6                        0   \n",
       "100214          2017      1               0                        0   \n",
       "100272          2017      1               0                        0   \n",
       "...              ...    ...             ...                      ...   \n",
       "999902          2018     12               0                        0   \n",
       "999911          2018     12               0                        0   \n",
       "999940          2018     12               3                        0   \n",
       "999982          2018     12               0                        0   \n",
       "999986          2018     12               0                        0   \n",
       "\n",
       "                Total Flights  Distance  Points Accumulated  Points Redeemed  \\\n",
       "Loyalty Number                                                                 \n",
       "100018                      3      1521               152.0                0   \n",
       "100102                     14      2030               203.0                0   \n",
       "100140                      6      1200               120.0                0   \n",
       "100214                      0         0                 0.0                0   \n",
       "100272                      0         0                 0.0                0   \n",
       "...                       ...       ...                 ...              ...   \n",
       "999902                      0         0                 0.0                0   \n",
       "999911                      0         0                 0.0                0   \n",
       "999940                      3      1233               123.0                0   \n",
       "999982                      0         0                 0.0                0   \n",
       "999986                      0         0                 0.0                0   \n",
       "\n",
       "                Dollar Cost Points Redeemed  \n",
       "Loyalty Number                               \n",
       "100018                                    0  \n",
       "100102                                    0  \n",
       "100140                                    0  \n",
       "100214                                    0  \n",
       "100272                                    0  \n",
       "...                                     ...  \n",
       "999902                                    0  \n",
       "999911                                    0  \n",
       "999940                                    0  \n",
       "999982                                    0  \n",
       "999986                                    0  \n",
       "\n",
       "[405624 rows x 9 columns]>"
      ]
     },
     "execution_count": 84,
     "metadata": {},
     "output_type": "execute_result"
    }
   ],
   "source": [
    "df_vuelos_clientes.info #informacion general de df"
   ]
  },
  {
   "cell_type": "code",
   "execution_count": 25,
   "metadata": {},
   "outputs": [
    {
     "data": {
      "text/plain": [
       "(405624, 9)"
      ]
     },
     "execution_count": 25,
     "metadata": {},
     "output_type": "execute_result"
    }
   ],
   "source": [
    "# Mostrar número de filas y columnas.\n",
    "df_vuelos_clientes.shape"
   ]
  },
  {
   "cell_type": "code",
   "execution_count": 28,
   "metadata": {},
   "outputs": [
    {
     "data": {
      "text/plain": [
       "Index(['Year', 'Month', 'Flights Booked', 'Flights with Companions',\n",
       "       'Total Flights', 'Distance', 'Points Accumulated', 'Points Redeemed',\n",
       "       'Dollar Cost Points Redeemed'],\n",
       "      dtype='object')"
      ]
     },
     "execution_count": 28,
     "metadata": {},
     "output_type": "execute_result"
    }
   ],
   "source": [
    "# Muestra los nombres de todas las columnas.\n",
    "df_vuelos_clientes.columns"
   ]
  },
  {
   "cell_type": "code",
   "execution_count": null,
   "metadata": {},
   "outputs": [
    {
     "data": {
      "text/html": [
       "<div>\n",
       "<style scoped>\n",
       "    .dataframe tbody tr th:only-of-type {\n",
       "        vertical-align: middle;\n",
       "    }\n",
       "\n",
       "    .dataframe tbody tr th {\n",
       "        vertical-align: top;\n",
       "    }\n",
       "\n",
       "    .dataframe thead th {\n",
       "        text-align: right;\n",
       "    }\n",
       "</style>\n",
       "<table border=\"1\" class=\"dataframe\">\n",
       "  <thead>\n",
       "    <tr style=\"text-align: right;\">\n",
       "      <th></th>\n",
       "      <th>count</th>\n",
       "      <th>mean</th>\n",
       "      <th>std</th>\n",
       "      <th>min</th>\n",
       "      <th>25%</th>\n",
       "      <th>50%</th>\n",
       "      <th>75%</th>\n",
       "      <th>max</th>\n",
       "    </tr>\n",
       "  </thead>\n",
       "  <tbody>\n",
       "    <tr>\n",
       "      <th>Year</th>\n",
       "      <td>405624.0</td>\n",
       "      <td>2017.500000</td>\n",
       "      <td>0.500001</td>\n",
       "      <td>2017.0</td>\n",
       "      <td>2017.00</td>\n",
       "      <td>2017.5</td>\n",
       "      <td>2018.00</td>\n",
       "      <td>2018.0</td>\n",
       "    </tr>\n",
       "    <tr>\n",
       "      <th>Month</th>\n",
       "      <td>405624.0</td>\n",
       "      <td>6.500000</td>\n",
       "      <td>3.452057</td>\n",
       "      <td>1.0</td>\n",
       "      <td>3.75</td>\n",
       "      <td>6.5</td>\n",
       "      <td>9.25</td>\n",
       "      <td>12.0</td>\n",
       "    </tr>\n",
       "    <tr>\n",
       "      <th>Flights Booked</th>\n",
       "      <td>405624.0</td>\n",
       "      <td>4.115052</td>\n",
       "      <td>5.225518</td>\n",
       "      <td>0.0</td>\n",
       "      <td>0.00</td>\n",
       "      <td>1.0</td>\n",
       "      <td>8.00</td>\n",
       "      <td>21.0</td>\n",
       "    </tr>\n",
       "    <tr>\n",
       "      <th>Flights with Companions</th>\n",
       "      <td>405624.0</td>\n",
       "      <td>1.031805</td>\n",
       "      <td>2.076869</td>\n",
       "      <td>0.0</td>\n",
       "      <td>0.00</td>\n",
       "      <td>0.0</td>\n",
       "      <td>1.00</td>\n",
       "      <td>11.0</td>\n",
       "    </tr>\n",
       "    <tr>\n",
       "      <th>Total Flights</th>\n",
       "      <td>405624.0</td>\n",
       "      <td>5.146858</td>\n",
       "      <td>6.521227</td>\n",
       "      <td>0.0</td>\n",
       "      <td>0.00</td>\n",
       "      <td>1.0</td>\n",
       "      <td>10.00</td>\n",
       "      <td>32.0</td>\n",
       "    </tr>\n",
       "    <tr>\n",
       "      <th>Distance</th>\n",
       "      <td>405624.0</td>\n",
       "      <td>1208.880059</td>\n",
       "      <td>1433.155320</td>\n",
       "      <td>0.0</td>\n",
       "      <td>0.00</td>\n",
       "      <td>488.0</td>\n",
       "      <td>2336.00</td>\n",
       "      <td>6293.0</td>\n",
       "    </tr>\n",
       "    <tr>\n",
       "      <th>Points Accumulated</th>\n",
       "      <td>405624.0</td>\n",
       "      <td>123.692721</td>\n",
       "      <td>146.599831</td>\n",
       "      <td>0.0</td>\n",
       "      <td>0.00</td>\n",
       "      <td>50.0</td>\n",
       "      <td>239.00</td>\n",
       "      <td>676.5</td>\n",
       "    </tr>\n",
       "    <tr>\n",
       "      <th>Points Redeemed</th>\n",
       "      <td>405624.0</td>\n",
       "      <td>30.696872</td>\n",
       "      <td>125.486049</td>\n",
       "      <td>0.0</td>\n",
       "      <td>0.00</td>\n",
       "      <td>0.0</td>\n",
       "      <td>0.00</td>\n",
       "      <td>876.0</td>\n",
       "    </tr>\n",
       "    <tr>\n",
       "      <th>Dollar Cost Points Redeemed</th>\n",
       "      <td>405624.0</td>\n",
       "      <td>2.484503</td>\n",
       "      <td>10.150038</td>\n",
       "      <td>0.0</td>\n",
       "      <td>0.00</td>\n",
       "      <td>0.0</td>\n",
       "      <td>0.00</td>\n",
       "      <td>71.0</td>\n",
       "    </tr>\n",
       "  </tbody>\n",
       "</table>\n",
       "</div>"
      ],
      "text/plain": [
       "                                count         mean          std     min  \\\n",
       "Year                         405624.0  2017.500000     0.500001  2017.0   \n",
       "Month                        405624.0     6.500000     3.452057     1.0   \n",
       "Flights Booked               405624.0     4.115052     5.225518     0.0   \n",
       "Flights with Companions      405624.0     1.031805     2.076869     0.0   \n",
       "Total Flights                405624.0     5.146858     6.521227     0.0   \n",
       "Distance                     405624.0  1208.880059  1433.155320     0.0   \n",
       "Points Accumulated           405624.0   123.692721   146.599831     0.0   \n",
       "Points Redeemed              405624.0    30.696872   125.486049     0.0   \n",
       "Dollar Cost Points Redeemed  405624.0     2.484503    10.150038     0.0   \n",
       "\n",
       "                                 25%     50%      75%     max  \n",
       "Year                         2017.00  2017.5  2018.00  2018.0  \n",
       "Month                           3.75     6.5     9.25    12.0  \n",
       "Flights Booked                  0.00     1.0     8.00    21.0  \n",
       "Flights with Companions         0.00     0.0     1.00    11.0  \n",
       "Total Flights                   0.00     1.0    10.00    32.0  \n",
       "Distance                        0.00   488.0  2336.00  6293.0  \n",
       "Points Accumulated              0.00    50.0   239.00   676.5  \n",
       "Points Redeemed                 0.00     0.0     0.00   876.0  \n",
       "Dollar Cost Points Redeemed     0.00     0.0     0.00    71.0  "
      ]
     },
     "execution_count": 43,
     "metadata": {},
     "output_type": "execute_result"
    }
   ],
   "source": [
    "# Genera un resumen estadístico de las columnas numéricas del DataFrame.El dataframe es solo numérico, no se puede mirar el resumen estadistico en las columnas categóricas.\n",
    "df_vuelos_clientes.describe().T"
   ]
  },
  {
   "cell_type": "code",
   "execution_count": null,
   "metadata": {},
   "outputs": [
    {
     "data": {
      "text/plain": [
       "Year                           0\n",
       "Month                          0\n",
       "Flights Booked                 0\n",
       "Flights with Companions        0\n",
       "Total Flights                  0\n",
       "Distance                       0\n",
       "Points Accumulated             0\n",
       "Points Redeemed                0\n",
       "Dollar Cost Points Redeemed    0\n",
       "dtype: int64"
      ]
     },
     "execution_count": 44,
     "metadata": {},
     "output_type": "execute_result"
    }
   ],
   "source": [
    "#muestra los valores nulos\n",
    "df_vuelos_clientes.isnull().sum()\n"
   ]
  },
  {
   "cell_type": "code",
   "execution_count": 30,
   "metadata": {},
   "outputs": [
    {
     "data": {
      "text/plain": [
       "Year                             int64\n",
       "Month                            int64\n",
       "Flights Booked                   int64\n",
       "Flights with Companions          int64\n",
       "Total Flights                    int64\n",
       "Distance                         int64\n",
       "Points Accumulated             float64\n",
       "Points Redeemed                  int64\n",
       "Dollar Cost Points Redeemed      int64\n",
       "dtype: object"
      ]
     },
     "execution_count": 30,
     "metadata": {},
     "output_type": "execute_result"
    }
   ],
   "source": [
    "# Muestra el tipo de dato de cada columna.\n",
    "df_vuelos_clientes.dtypes"
   ]
  },
  {
   "cell_type": "code",
   "execution_count": null,
   "metadata": {},
   "outputs": [
    {
     "data": {
      "text/plain": [
       "dtype('int64')"
      ]
     },
     "execution_count": 63,
     "metadata": {},
     "output_type": "execute_result"
    }
   ],
   "source": [
    "df_vuelos_clientes[\"Points Redeemed\"].dtype #controlar que son solo numeros enteros"
   ]
  },
  {
   "cell_type": "code",
   "execution_count": 64,
   "metadata": {},
   "outputs": [
    {
     "data": {
      "text/plain": [
       "dtype('int64')"
      ]
     },
     "execution_count": 64,
     "metadata": {},
     "output_type": "execute_result"
    }
   ],
   "source": [
    "df_vuelos_clientes[\"Dollar Cost Points Redeemed\"].dtype #controlar que son solo numeros enteros"
   ]
  },
  {
   "cell_type": "code",
   "execution_count": null,
   "metadata": {},
   "outputs": [
    {
     "data": {
      "text/plain": [
       "array([ 1,  9,  2,  3, 11,  4,  5,  7,  6,  8, 10, 12], dtype=int64)"
      ]
     },
     "execution_count": 69,
     "metadata": {},
     "output_type": "execute_result"
    }
   ],
   "source": [
    "df_vuelos_clientes[\"Month\"].unique()#Comprobar que los numeros son del 1 al 12"
   ]
  },
  {
   "cell_type": "code",
   "execution_count": 65,
   "metadata": {},
   "outputs": [
    {
     "data": {
      "text/plain": [
       "dtype('int64')"
      ]
     },
     "execution_count": 65,
     "metadata": {},
     "output_type": "execute_result"
    }
   ],
   "source": [
    "df_vuelos_clientes[\"Distance\"].dtype #controlar que son solo numeros enteros"
   ]
  },
  {
   "cell_type": "code",
   "execution_count": 46,
   "metadata": {},
   "outputs": [
    {
     "data": {
      "text/plain": [
       "228705"
      ]
     },
     "execution_count": 46,
     "metadata": {},
     "output_type": "execute_result"
    }
   ],
   "source": [
    "# Muestra el número total de filas duplicadas.\n",
    "df_vuelos_clientes.duplicated().sum()"
   ]
  },
  {
   "cell_type": "code",
   "execution_count": null,
   "metadata": {},
   "outputs": [],
   "source": [
    "## cambiar el formato del mes de números a texto\n",
    "## no hay valores nulos\n",
    "## si hay duplicados "
   ]
  },
  {
   "cell_type": "code",
   "execution_count": 26,
   "metadata": {},
   "outputs": [
    {
     "data": {
      "text/html": [
       "<div>\n",
       "<style scoped>\n",
       "    .dataframe tbody tr th:only-of-type {\n",
       "        vertical-align: middle;\n",
       "    }\n",
       "\n",
       "    .dataframe tbody tr th {\n",
       "        vertical-align: top;\n",
       "    }\n",
       "\n",
       "    .dataframe thead th {\n",
       "        text-align: right;\n",
       "    }\n",
       "</style>\n",
       "<table border=\"1\" class=\"dataframe\">\n",
       "  <thead>\n",
       "    <tr style=\"text-align: right;\">\n",
       "      <th></th>\n",
       "      <th>Country</th>\n",
       "      <th>Province</th>\n",
       "      <th>City</th>\n",
       "      <th>Postal Code</th>\n",
       "      <th>Gender</th>\n",
       "      <th>Education</th>\n",
       "      <th>Salary</th>\n",
       "      <th>Marital Status</th>\n",
       "      <th>Loyalty Card</th>\n",
       "      <th>CLV</th>\n",
       "      <th>Enrollment Type</th>\n",
       "      <th>Enrollment Year</th>\n",
       "      <th>Enrollment Month</th>\n",
       "      <th>Cancellation Year</th>\n",
       "      <th>Cancellation Month</th>\n",
       "    </tr>\n",
       "    <tr>\n",
       "      <th>Loyalty Number</th>\n",
       "      <th></th>\n",
       "      <th></th>\n",
       "      <th></th>\n",
       "      <th></th>\n",
       "      <th></th>\n",
       "      <th></th>\n",
       "      <th></th>\n",
       "      <th></th>\n",
       "      <th></th>\n",
       "      <th></th>\n",
       "      <th></th>\n",
       "      <th></th>\n",
       "      <th></th>\n",
       "      <th></th>\n",
       "      <th></th>\n",
       "    </tr>\n",
       "  </thead>\n",
       "  <tbody>\n",
       "    <tr>\n",
       "      <th>480934</th>\n",
       "      <td>Canada</td>\n",
       "      <td>Ontario</td>\n",
       "      <td>Toronto</td>\n",
       "      <td>M2Z 4K1</td>\n",
       "      <td>Female</td>\n",
       "      <td>Bachelor</td>\n",
       "      <td>83236.0</td>\n",
       "      <td>Married</td>\n",
       "      <td>Star</td>\n",
       "      <td>3839.14</td>\n",
       "      <td>Standard</td>\n",
       "      <td>2016</td>\n",
       "      <td>2</td>\n",
       "      <td>NaN</td>\n",
       "      <td>NaN</td>\n",
       "    </tr>\n",
       "    <tr>\n",
       "      <th>549612</th>\n",
       "      <td>Canada</td>\n",
       "      <td>Alberta</td>\n",
       "      <td>Edmonton</td>\n",
       "      <td>T3G 6Y6</td>\n",
       "      <td>Male</td>\n",
       "      <td>College</td>\n",
       "      <td>NaN</td>\n",
       "      <td>Divorced</td>\n",
       "      <td>Star</td>\n",
       "      <td>3839.61</td>\n",
       "      <td>Standard</td>\n",
       "      <td>2016</td>\n",
       "      <td>3</td>\n",
       "      <td>NaN</td>\n",
       "      <td>NaN</td>\n",
       "    </tr>\n",
       "    <tr>\n",
       "      <th>429460</th>\n",
       "      <td>Canada</td>\n",
       "      <td>British Columbia</td>\n",
       "      <td>Vancouver</td>\n",
       "      <td>V6E 3D9</td>\n",
       "      <td>Male</td>\n",
       "      <td>College</td>\n",
       "      <td>NaN</td>\n",
       "      <td>Single</td>\n",
       "      <td>Star</td>\n",
       "      <td>3839.75</td>\n",
       "      <td>Standard</td>\n",
       "      <td>2014</td>\n",
       "      <td>7</td>\n",
       "      <td>2018.0</td>\n",
       "      <td>1.0</td>\n",
       "    </tr>\n",
       "    <tr>\n",
       "      <th>608370</th>\n",
       "      <td>Canada</td>\n",
       "      <td>Ontario</td>\n",
       "      <td>Toronto</td>\n",
       "      <td>P1W 1K4</td>\n",
       "      <td>Male</td>\n",
       "      <td>College</td>\n",
       "      <td>NaN</td>\n",
       "      <td>Single</td>\n",
       "      <td>Star</td>\n",
       "      <td>3839.75</td>\n",
       "      <td>Standard</td>\n",
       "      <td>2013</td>\n",
       "      <td>2</td>\n",
       "      <td>NaN</td>\n",
       "      <td>NaN</td>\n",
       "    </tr>\n",
       "    <tr>\n",
       "      <th>530508</th>\n",
       "      <td>Canada</td>\n",
       "      <td>Quebec</td>\n",
       "      <td>Hull</td>\n",
       "      <td>J8Y 3Z5</td>\n",
       "      <td>Male</td>\n",
       "      <td>Bachelor</td>\n",
       "      <td>103495.0</td>\n",
       "      <td>Married</td>\n",
       "      <td>Star</td>\n",
       "      <td>3842.79</td>\n",
       "      <td>Standard</td>\n",
       "      <td>2014</td>\n",
       "      <td>10</td>\n",
       "      <td>NaN</td>\n",
       "      <td>NaN</td>\n",
       "    </tr>\n",
       "  </tbody>\n",
       "</table>\n",
       "</div>"
      ],
      "text/plain": [
       "               Country          Province       City Postal Code  Gender  \\\n",
       "Loyalty Number                                                            \n",
       "480934          Canada           Ontario    Toronto     M2Z 4K1  Female   \n",
       "549612          Canada           Alberta   Edmonton     T3G 6Y6    Male   \n",
       "429460          Canada  British Columbia  Vancouver     V6E 3D9    Male   \n",
       "608370          Canada           Ontario    Toronto     P1W 1K4    Male   \n",
       "530508          Canada            Quebec       Hull     J8Y 3Z5    Male   \n",
       "\n",
       "               Education    Salary Marital Status Loyalty Card      CLV  \\\n",
       "Loyalty Number                                                            \n",
       "480934          Bachelor   83236.0        Married         Star  3839.14   \n",
       "549612           College       NaN       Divorced         Star  3839.61   \n",
       "429460           College       NaN         Single         Star  3839.75   \n",
       "608370           College       NaN         Single         Star  3839.75   \n",
       "530508          Bachelor  103495.0        Married         Star  3842.79   \n",
       "\n",
       "               Enrollment Type  Enrollment Year  Enrollment Month  \\\n",
       "Loyalty Number                                                      \n",
       "480934                Standard             2016                 2   \n",
       "549612                Standard             2016                 3   \n",
       "429460                Standard             2014                 7   \n",
       "608370                Standard             2013                 2   \n",
       "530508                Standard             2014                10   \n",
       "\n",
       "                Cancellation Year  Cancellation Month  \n",
       "Loyalty Number                                         \n",
       "480934                        NaN                 NaN  \n",
       "549612                        NaN                 NaN  \n",
       "429460                     2018.0                 1.0  \n",
       "608370                        NaN                 NaN  \n",
       "530508                        NaN                 NaN  "
      ]
     },
     "execution_count": 26,
     "metadata": {},
     "output_type": "execute_result"
    }
   ],
   "source": [
    "#Importación de los datos Customer Loyalty History.csv\n",
    "\n",
    "df_datos_clientes = pd.read_csv('./files/Customer_Loyalty_History.csv', index_col=0)# La primera columna del archivo será utilizada como índice\n",
    "df_datos_clientes.head()"
   ]
  },
  {
   "cell_type": "code",
   "execution_count": 27,
   "metadata": {},
   "outputs": [
    {
     "data": {
      "text/plain": [
       "(16737, 15)"
      ]
     },
     "execution_count": 27,
     "metadata": {},
     "output_type": "execute_result"
    }
   ],
   "source": [
    "# Mostrar número de filas y columnas.\n",
    "df_datos_clientes.shape"
   ]
  },
  {
   "cell_type": "code",
   "execution_count": null,
   "metadata": {},
   "outputs": [
    {
     "data": {
      "text/plain": [
       "<bound method DataFrame.info of                Country          Province        City Postal Code  Gender  \\\n",
       "Loyalty Number                                                             \n",
       "480934          Canada           Ontario     Toronto     M2Z 4K1  Female   \n",
       "549612          Canada           Alberta    Edmonton     T3G 6Y6    Male   \n",
       "429460          Canada  British Columbia   Vancouver     V6E 3D9    Male   \n",
       "608370          Canada           Ontario     Toronto     P1W 1K4    Male   \n",
       "530508          Canada            Quebec        Hull     J8Y 3Z5    Male   \n",
       "...                ...               ...         ...         ...     ...   \n",
       "823768          Canada  British Columbia   Vancouver     V6E 3Z3  Female   \n",
       "680886          Canada      Saskatchewan      Regina     S1J 3C5  Female   \n",
       "776187          Canada  British Columbia   Vancouver     V5R 1W3    Male   \n",
       "906428          Canada             Yukon  Whitehorse     Y2K 6R0    Male   \n",
       "652627          Canada          Manitoba    Winnipeg     R2C 0M5  Female   \n",
       "\n",
       "               Education    Salary Marital Status Loyalty Card       CLV  \\\n",
       "Loyalty Number                                                             \n",
       "480934          Bachelor   83236.0        Married         Star   3839.14   \n",
       "549612           College       NaN       Divorced         Star   3839.61   \n",
       "429460           College       NaN         Single         Star   3839.75   \n",
       "608370           College       NaN         Single         Star   3839.75   \n",
       "530508          Bachelor  103495.0        Married         Star   3842.79   \n",
       "...                  ...       ...            ...          ...       ...   \n",
       "823768           College       NaN        Married         Star  61850.19   \n",
       "680886          Bachelor   89210.0        Married         Star  67907.27   \n",
       "776187           College       NaN         Single         Star  74228.52   \n",
       "906428          Bachelor  -57297.0        Married         Star  10018.66   \n",
       "652627          Bachelor   75049.0        Married         Star  83325.38   \n",
       "\n",
       "               Enrollment Type  Enrollment Year  Enrollment Month  \\\n",
       "Loyalty Number                                                      \n",
       "480934                Standard             2016                 2   \n",
       "549612                Standard             2016                 3   \n",
       "429460                Standard             2014                 7   \n",
       "608370                Standard             2013                 2   \n",
       "530508                Standard             2014                10   \n",
       "...                        ...              ...               ...   \n",
       "823768                Standard             2012                12   \n",
       "680886                Standard             2014                 9   \n",
       "776187                Standard             2014                 3   \n",
       "906428          2018 Promotion             2018                 4   \n",
       "652627                Standard             2015                12   \n",
       "\n",
       "                Cancellation Year  Cancellation Month  \n",
       "Loyalty Number                                         \n",
       "480934                        NaN                 NaN  \n",
       "549612                        NaN                 NaN  \n",
       "429460                     2018.0                 1.0  \n",
       "608370                        NaN                 NaN  \n",
       "530508                        NaN                 NaN  \n",
       "...                           ...                 ...  \n",
       "823768                        NaN                 NaN  \n",
       "680886                        NaN                 NaN  \n",
       "776187                        NaN                 NaN  \n",
       "906428                        NaN                 NaN  \n",
       "652627                     2016.0                 8.0  \n",
       "\n",
       "[16737 rows x 15 columns]>"
      ]
     },
     "execution_count": 83,
     "metadata": {},
     "output_type": "execute_result"
    }
   ],
   "source": [
    "df_datos_clientes.info #informacin general de df"
   ]
  },
  {
   "cell_type": "code",
   "execution_count": 29,
   "metadata": {},
   "outputs": [
    {
     "data": {
      "text/plain": [
       "Index(['Country', 'Province', 'City', 'Postal Code', 'Gender', 'Education',\n",
       "       'Salary', 'Marital Status', 'Loyalty Card', 'CLV', 'Enrollment Type',\n",
       "       'Enrollment Year', 'Enrollment Month', 'Cancellation Year',\n",
       "       'Cancellation Month'],\n",
       "      dtype='object')"
      ]
     },
     "execution_count": 29,
     "metadata": {},
     "output_type": "execute_result"
    }
   ],
   "source": [
    "# Muestra los nombres de todas las columnas.\n",
    "df_datos_clientes.columns"
   ]
  },
  {
   "cell_type": "code",
   "execution_count": 31,
   "metadata": {},
   "outputs": [
    {
     "data": {
      "text/plain": [
       "Country                object\n",
       "Province               object\n",
       "City                   object\n",
       "Postal Code            object\n",
       "Gender                 object\n",
       "Education              object\n",
       "Salary                float64\n",
       "Marital Status         object\n",
       "Loyalty Card           object\n",
       "CLV                   float64\n",
       "Enrollment Type        object\n",
       "Enrollment Year         int64\n",
       "Enrollment Month        int64\n",
       "Cancellation Year     float64\n",
       "Cancellation Month    float64\n",
       "dtype: object"
      ]
     },
     "execution_count": 31,
     "metadata": {},
     "output_type": "execute_result"
    }
   ],
   "source": [
    "# Muestra el tipo de dato de cada columna.\n",
    "df_datos_clientes.dtypes"
   ]
  },
  {
   "cell_type": "code",
   "execution_count": null,
   "metadata": {},
   "outputs": [],
   "source": [
    "df_datos_clientes[\"Postal Code\"].value_counts()#comprobar si el código postal era solo numerico"
   ]
  },
  {
   "cell_type": "code",
   "execution_count": null,
   "metadata": {},
   "outputs": [],
   "source": [
    "df_datos_clientes[\"Gender\"].value_counts() #Mirar si estan definidos como male y female"
   ]
  },
  {
   "cell_type": "code",
   "execution_count": null,
   "metadata": {},
   "outputs": [],
   "source": [
    "df_datos_clientes[\"Education\"].value_counts()#Mirar como estan definidos"
   ]
  },
  {
   "cell_type": "code",
   "execution_count": null,
   "metadata": {},
   "outputs": [
    {
     "data": {
      "text/plain": [
       "Marital Status\n",
       "Married     9735\n",
       "Single      4484\n",
       "Divorced    2518\n",
       "Name: count, dtype: int64"
      ]
     },
     "execution_count": 55,
     "metadata": {},
     "output_type": "execute_result"
    }
   ],
   "source": [
    "df_datos_clientes[\"Marital Status\"].value_counts() #Mirar como estan definidos"
   ]
  },
  {
   "cell_type": "code",
   "execution_count": null,
   "metadata": {},
   "outputs": [
    {
     "data": {
      "text/plain": [
       "array(['Star', 'Aurora', 'Nova'], dtype=object)"
      ]
     },
     "execution_count": 57,
     "metadata": {},
     "output_type": "execute_result"
    }
   ],
   "source": [
    "df_datos_clientes[\"Loyalty Card\"].unique()#Mirar si indica el nivel\n"
   ]
  },
  {
   "cell_type": "code",
   "execution_count": 103,
   "metadata": {},
   "outputs": [
    {
     "data": {
      "text/plain": [
       "0"
      ]
     },
     "execution_count": 103,
     "metadata": {},
     "output_type": "execute_result"
    }
   ],
   "source": [
    "# Muestra el número total de filas duplicadas.\n",
    "df_datos_clientes.duplicated().sum()"
   ]
  },
  {
   "cell_type": "code",
   "execution_count": 105,
   "metadata": {},
   "outputs": [
    {
     "data": {
      "text/plain": [
       "Country                0.000000\n",
       "Province               0.000000\n",
       "City                   0.000000\n",
       "Postal Code            0.000000\n",
       "Gender                 0.000000\n",
       "Education              0.000000\n",
       "Salary                25.321145\n",
       "Marital Status         0.000000\n",
       "Loyalty Card           0.000000\n",
       "CLV                    0.000000\n",
       "Enrollment Type        0.000000\n",
       "Enrollment Year        0.000000\n",
       "Enrollment Month       0.000000\n",
       "Cancellation Year     87.650117\n",
       "Cancellation Month    87.650117\n",
       "dtype: float64"
      ]
     },
     "execution_count": 105,
     "metadata": {},
     "output_type": "execute_result"
    }
   ],
   "source": [
    "#muestra los valores nulos\n",
    "df_datos_clientes.isnull().sum()/df_datos_clientes.shape[0]*100\n"
   ]
  },
  {
   "cell_type": "code",
   "execution_count": 66,
   "metadata": {},
   "outputs": [
    {
     "data": {
      "text/html": [
       "<div>\n",
       "<style scoped>\n",
       "    .dataframe tbody tr th:only-of-type {\n",
       "        vertical-align: middle;\n",
       "    }\n",
       "\n",
       "    .dataframe tbody tr th {\n",
       "        vertical-align: top;\n",
       "    }\n",
       "\n",
       "    .dataframe thead th {\n",
       "        text-align: right;\n",
       "    }\n",
       "</style>\n",
       "<table border=\"1\" class=\"dataframe\">\n",
       "  <thead>\n",
       "    <tr style=\"text-align: right;\">\n",
       "      <th></th>\n",
       "      <th>count</th>\n",
       "      <th>mean</th>\n",
       "      <th>std</th>\n",
       "      <th>min</th>\n",
       "      <th>25%</th>\n",
       "      <th>50%</th>\n",
       "      <th>75%</th>\n",
       "      <th>max</th>\n",
       "    </tr>\n",
       "  </thead>\n",
       "  <tbody>\n",
       "    <tr>\n",
       "      <th>Salary</th>\n",
       "      <td>12499.0</td>\n",
       "      <td>79245.609409</td>\n",
       "      <td>35008.297285</td>\n",
       "      <td>-58486.00</td>\n",
       "      <td>59246.50</td>\n",
       "      <td>73455.00</td>\n",
       "      <td>88517.50</td>\n",
       "      <td>407228.00</td>\n",
       "    </tr>\n",
       "    <tr>\n",
       "      <th>CLV</th>\n",
       "      <td>16737.0</td>\n",
       "      <td>7988.896536</td>\n",
       "      <td>6860.982280</td>\n",
       "      <td>1898.01</td>\n",
       "      <td>3980.84</td>\n",
       "      <td>5780.18</td>\n",
       "      <td>8940.58</td>\n",
       "      <td>83325.38</td>\n",
       "    </tr>\n",
       "    <tr>\n",
       "      <th>Enrollment Year</th>\n",
       "      <td>16737.0</td>\n",
       "      <td>2015.253211</td>\n",
       "      <td>1.979111</td>\n",
       "      <td>2012.00</td>\n",
       "      <td>2014.00</td>\n",
       "      <td>2015.00</td>\n",
       "      <td>2017.00</td>\n",
       "      <td>2018.00</td>\n",
       "    </tr>\n",
       "    <tr>\n",
       "      <th>Enrollment Month</th>\n",
       "      <td>16737.0</td>\n",
       "      <td>6.669116</td>\n",
       "      <td>3.398958</td>\n",
       "      <td>1.00</td>\n",
       "      <td>4.00</td>\n",
       "      <td>7.00</td>\n",
       "      <td>10.00</td>\n",
       "      <td>12.00</td>\n",
       "    </tr>\n",
       "    <tr>\n",
       "      <th>Cancellation Year</th>\n",
       "      <td>2067.0</td>\n",
       "      <td>2016.503145</td>\n",
       "      <td>1.380743</td>\n",
       "      <td>2013.00</td>\n",
       "      <td>2016.00</td>\n",
       "      <td>2017.00</td>\n",
       "      <td>2018.00</td>\n",
       "      <td>2018.00</td>\n",
       "    </tr>\n",
       "    <tr>\n",
       "      <th>Cancellation Month</th>\n",
       "      <td>2067.0</td>\n",
       "      <td>6.962748</td>\n",
       "      <td>3.455297</td>\n",
       "      <td>1.00</td>\n",
       "      <td>4.00</td>\n",
       "      <td>7.00</td>\n",
       "      <td>10.00</td>\n",
       "      <td>12.00</td>\n",
       "    </tr>\n",
       "  </tbody>\n",
       "</table>\n",
       "</div>"
      ],
      "text/plain": [
       "                      count          mean           std       min       25%  \\\n",
       "Salary              12499.0  79245.609409  35008.297285 -58486.00  59246.50   \n",
       "CLV                 16737.0   7988.896536   6860.982280   1898.01   3980.84   \n",
       "Enrollment Year     16737.0   2015.253211      1.979111   2012.00   2014.00   \n",
       "Enrollment Month    16737.0      6.669116      3.398958      1.00      4.00   \n",
       "Cancellation Year    2067.0   2016.503145      1.380743   2013.00   2016.00   \n",
       "Cancellation Month   2067.0      6.962748      3.455297      1.00      4.00   \n",
       "\n",
       "                         50%       75%        max  \n",
       "Salary              73455.00  88517.50  407228.00  \n",
       "CLV                  5780.18   8940.58   83325.38  \n",
       "Enrollment Year      2015.00   2017.00    2018.00  \n",
       "Enrollment Month        7.00     10.00      12.00  \n",
       "Cancellation Year    2017.00   2018.00    2018.00  \n",
       "Cancellation Month      7.00     10.00      12.00  "
      ]
     },
     "execution_count": 66,
     "metadata": {},
     "output_type": "execute_result"
    }
   ],
   "source": [
    "# Genera un resumen estadístico de las columnas numéricas del DataFrame.\n",
    "df_datos_clientes.describe().T"
   ]
  },
  {
   "cell_type": "code",
   "execution_count": 67,
   "metadata": {},
   "outputs": [
    {
     "data": {
      "text/html": [
       "<div>\n",
       "<style scoped>\n",
       "    .dataframe tbody tr th:only-of-type {\n",
       "        vertical-align: middle;\n",
       "    }\n",
       "\n",
       "    .dataframe tbody tr th {\n",
       "        vertical-align: top;\n",
       "    }\n",
       "\n",
       "    .dataframe thead th {\n",
       "        text-align: right;\n",
       "    }\n",
       "</style>\n",
       "<table border=\"1\" class=\"dataframe\">\n",
       "  <thead>\n",
       "    <tr style=\"text-align: right;\">\n",
       "      <th></th>\n",
       "      <th>count</th>\n",
       "      <th>unique</th>\n",
       "      <th>top</th>\n",
       "      <th>freq</th>\n",
       "    </tr>\n",
       "  </thead>\n",
       "  <tbody>\n",
       "    <tr>\n",
       "      <th>Country</th>\n",
       "      <td>16737</td>\n",
       "      <td>1</td>\n",
       "      <td>Canada</td>\n",
       "      <td>16737</td>\n",
       "    </tr>\n",
       "    <tr>\n",
       "      <th>Province</th>\n",
       "      <td>16737</td>\n",
       "      <td>11</td>\n",
       "      <td>Ontario</td>\n",
       "      <td>5404</td>\n",
       "    </tr>\n",
       "    <tr>\n",
       "      <th>City</th>\n",
       "      <td>16737</td>\n",
       "      <td>29</td>\n",
       "      <td>Toronto</td>\n",
       "      <td>3351</td>\n",
       "    </tr>\n",
       "    <tr>\n",
       "      <th>Postal Code</th>\n",
       "      <td>16737</td>\n",
       "      <td>55</td>\n",
       "      <td>V6E 3D9</td>\n",
       "      <td>911</td>\n",
       "    </tr>\n",
       "    <tr>\n",
       "      <th>Gender</th>\n",
       "      <td>16737</td>\n",
       "      <td>2</td>\n",
       "      <td>Female</td>\n",
       "      <td>8410</td>\n",
       "    </tr>\n",
       "    <tr>\n",
       "      <th>Education</th>\n",
       "      <td>16737</td>\n",
       "      <td>5</td>\n",
       "      <td>Bachelor</td>\n",
       "      <td>10475</td>\n",
       "    </tr>\n",
       "    <tr>\n",
       "      <th>Marital Status</th>\n",
       "      <td>16737</td>\n",
       "      <td>3</td>\n",
       "      <td>Married</td>\n",
       "      <td>9735</td>\n",
       "    </tr>\n",
       "    <tr>\n",
       "      <th>Loyalty Card</th>\n",
       "      <td>16737</td>\n",
       "      <td>3</td>\n",
       "      <td>Star</td>\n",
       "      <td>7637</td>\n",
       "    </tr>\n",
       "    <tr>\n",
       "      <th>Enrollment Type</th>\n",
       "      <td>16737</td>\n",
       "      <td>2</td>\n",
       "      <td>Standard</td>\n",
       "      <td>15766</td>\n",
       "    </tr>\n",
       "  </tbody>\n",
       "</table>\n",
       "</div>"
      ],
      "text/plain": [
       "                 count unique       top   freq\n",
       "Country          16737      1    Canada  16737\n",
       "Province         16737     11   Ontario   5404\n",
       "City             16737     29   Toronto   3351\n",
       "Postal Code      16737     55   V6E 3D9    911\n",
       "Gender           16737      2    Female   8410\n",
       "Education        16737      5  Bachelor  10475\n",
       "Marital Status   16737      3   Married   9735\n",
       "Loyalty Card     16737      3      Star   7637\n",
       "Enrollment Type  16737      2  Standard  15766"
      ]
     },
     "execution_count": 67,
     "metadata": {},
     "output_type": "execute_result"
    }
   ],
   "source": [
    "# Genera un resumen estadístico de las columnas categóricas del DataFrame.\n",
    "df_datos_clientes.describe(include='object').T"
   ]
  },
  {
   "cell_type": "code",
   "execution_count": null,
   "metadata": {},
   "outputs": [
    {
     "data": {
      "text/plain": [
       "array([ 2,  3,  7, 10,  5,  6, 12,  1, 11,  8,  4,  9], dtype=int64)"
      ]
     },
     "execution_count": 68,
     "metadata": {},
     "output_type": "execute_result"
    }
   ],
   "source": [
    "df_datos_clientes[\"Enrollment Month\"].unique()#mirar si esta en números del 1 al 12"
   ]
  },
  {
   "cell_type": "code",
   "execution_count": null,
   "metadata": {},
   "outputs": [],
   "source": [
    "#Enrollment Month pasar de int a texto\n",
    "#Cancellation Year,Cancellation Month eliminar por que la mayoria son nulos.\n",
    "#Hay salarios negativos pasarlos a valor absoluto(no negativo)\n",
    "#Hay salarios nulos, decidir que hacer con ellos\n",
    "\n",
    "\n",
    "\n"
   ]
  },
  {
   "cell_type": "code",
   "execution_count": 70,
   "metadata": {},
   "outputs": [
    {
     "data": {
      "text/html": [
       "<div>\n",
       "<style scoped>\n",
       "    .dataframe tbody tr th:only-of-type {\n",
       "        vertical-align: middle;\n",
       "    }\n",
       "\n",
       "    .dataframe tbody tr th {\n",
       "        vertical-align: top;\n",
       "    }\n",
       "\n",
       "    .dataframe thead th {\n",
       "        text-align: right;\n",
       "    }\n",
       "</style>\n",
       "<table border=\"1\" class=\"dataframe\">\n",
       "  <thead>\n",
       "    <tr style=\"text-align: right;\">\n",
       "      <th></th>\n",
       "      <th>Year</th>\n",
       "      <th>Month</th>\n",
       "      <th>Flights Booked</th>\n",
       "      <th>Flights with Companions</th>\n",
       "      <th>Total Flights</th>\n",
       "      <th>Distance</th>\n",
       "      <th>Points Accumulated</th>\n",
       "      <th>Points Redeemed</th>\n",
       "      <th>Dollar Cost Points Redeemed</th>\n",
       "      <th>Country</th>\n",
       "      <th>Province</th>\n",
       "      <th>City</th>\n",
       "      <th>Postal Code</th>\n",
       "      <th>Gender</th>\n",
       "      <th>Education</th>\n",
       "      <th>Salary</th>\n",
       "      <th>Marital Status</th>\n",
       "      <th>Loyalty Card</th>\n",
       "      <th>CLV</th>\n",
       "      <th>Enrollment Type</th>\n",
       "      <th>Enrollment Year</th>\n",
       "      <th>Enrollment Month</th>\n",
       "      <th>Cancellation Year</th>\n",
       "      <th>Cancellation Month</th>\n",
       "    </tr>\n",
       "    <tr>\n",
       "      <th>Loyalty Number</th>\n",
       "      <th></th>\n",
       "      <th></th>\n",
       "      <th></th>\n",
       "      <th></th>\n",
       "      <th></th>\n",
       "      <th></th>\n",
       "      <th></th>\n",
       "      <th></th>\n",
       "      <th></th>\n",
       "      <th></th>\n",
       "      <th></th>\n",
       "      <th></th>\n",
       "      <th></th>\n",
       "      <th></th>\n",
       "      <th></th>\n",
       "      <th></th>\n",
       "      <th></th>\n",
       "      <th></th>\n",
       "      <th></th>\n",
       "      <th></th>\n",
       "      <th></th>\n",
       "      <th></th>\n",
       "      <th></th>\n",
       "      <th></th>\n",
       "    </tr>\n",
       "  </thead>\n",
       "  <tbody>\n",
       "    <tr>\n",
       "      <th>424812</th>\n",
       "      <td>2017</td>\n",
       "      <td>4</td>\n",
       "      <td>10</td>\n",
       "      <td>0</td>\n",
       "      <td>10</td>\n",
       "      <td>1690</td>\n",
       "      <td>169.0</td>\n",
       "      <td>0</td>\n",
       "      <td>0</td>\n",
       "      <td>Canada</td>\n",
       "      <td>British Columbia</td>\n",
       "      <td>West Vancouver</td>\n",
       "      <td>V6V 8Z3</td>\n",
       "      <td>Female</td>\n",
       "      <td>Bachelor</td>\n",
       "      <td>104990.0</td>\n",
       "      <td>Divorced</td>\n",
       "      <td>Nova</td>\n",
       "      <td>39365.30</td>\n",
       "      <td>Standard</td>\n",
       "      <td>2015</td>\n",
       "      <td>1</td>\n",
       "      <td>NaN</td>\n",
       "      <td>NaN</td>\n",
       "    </tr>\n",
       "    <tr>\n",
       "      <th>694942</th>\n",
       "      <td>2017</td>\n",
       "      <td>6</td>\n",
       "      <td>2</td>\n",
       "      <td>0</td>\n",
       "      <td>2</td>\n",
       "      <td>4194</td>\n",
       "      <td>419.0</td>\n",
       "      <td>0</td>\n",
       "      <td>0</td>\n",
       "      <td>Canada</td>\n",
       "      <td>Quebec</td>\n",
       "      <td>Tremblant</td>\n",
       "      <td>H5Y 2S9</td>\n",
       "      <td>Female</td>\n",
       "      <td>Master</td>\n",
       "      <td>85959.0</td>\n",
       "      <td>Divorced</td>\n",
       "      <td>Nova</td>\n",
       "      <td>12168.74</td>\n",
       "      <td>Standard</td>\n",
       "      <td>2014</td>\n",
       "      <td>3</td>\n",
       "      <td>NaN</td>\n",
       "      <td>NaN</td>\n",
       "    </tr>\n",
       "    <tr>\n",
       "      <th>893057</th>\n",
       "      <td>2018</td>\n",
       "      <td>9</td>\n",
       "      <td>5</td>\n",
       "      <td>5</td>\n",
       "      <td>10</td>\n",
       "      <td>810</td>\n",
       "      <td>81.0</td>\n",
       "      <td>0</td>\n",
       "      <td>0</td>\n",
       "      <td>Canada</td>\n",
       "      <td>British Columbia</td>\n",
       "      <td>Victoria</td>\n",
       "      <td>V10 6T5</td>\n",
       "      <td>Male</td>\n",
       "      <td>Bachelor</td>\n",
       "      <td>83224.0</td>\n",
       "      <td>Married</td>\n",
       "      <td>Nova</td>\n",
       "      <td>4061.59</td>\n",
       "      <td>Standard</td>\n",
       "      <td>2016</td>\n",
       "      <td>3</td>\n",
       "      <td>NaN</td>\n",
       "      <td>NaN</td>\n",
       "    </tr>\n",
       "    <tr>\n",
       "      <th>698573</th>\n",
       "      <td>2018</td>\n",
       "      <td>6</td>\n",
       "      <td>19</td>\n",
       "      <td>6</td>\n",
       "      <td>25</td>\n",
       "      <td>2525</td>\n",
       "      <td>252.0</td>\n",
       "      <td>0</td>\n",
       "      <td>0</td>\n",
       "      <td>Canada</td>\n",
       "      <td>British Columbia</td>\n",
       "      <td>Dawson Creek</td>\n",
       "      <td>U5I 4F1</td>\n",
       "      <td>Female</td>\n",
       "      <td>Bachelor</td>\n",
       "      <td>64605.0</td>\n",
       "      <td>Married</td>\n",
       "      <td>Star</td>\n",
       "      <td>24723.18</td>\n",
       "      <td>Standard</td>\n",
       "      <td>2013</td>\n",
       "      <td>8</td>\n",
       "      <td>NaN</td>\n",
       "      <td>NaN</td>\n",
       "    </tr>\n",
       "    <tr>\n",
       "      <th>348056</th>\n",
       "      <td>2018</td>\n",
       "      <td>9</td>\n",
       "      <td>5</td>\n",
       "      <td>5</td>\n",
       "      <td>10</td>\n",
       "      <td>660</td>\n",
       "      <td>66.0</td>\n",
       "      <td>562</td>\n",
       "      <td>45</td>\n",
       "      <td>Canada</td>\n",
       "      <td>Ontario</td>\n",
       "      <td>Ottawa</td>\n",
       "      <td>K1F 2R2</td>\n",
       "      <td>Female</td>\n",
       "      <td>Bachelor</td>\n",
       "      <td>63910.0</td>\n",
       "      <td>Married</td>\n",
       "      <td>Nova</td>\n",
       "      <td>10209.93</td>\n",
       "      <td>Standard</td>\n",
       "      <td>2017</td>\n",
       "      <td>5</td>\n",
       "      <td>NaN</td>\n",
       "      <td>NaN</td>\n",
       "    </tr>\n",
       "  </tbody>\n",
       "</table>\n",
       "</div>"
      ],
      "text/plain": [
       "                Year  Month  Flights Booked  Flights with Companions  \\\n",
       "Loyalty Number                                                         \n",
       "424812          2017      4              10                        0   \n",
       "694942          2017      6               2                        0   \n",
       "893057          2018      9               5                        5   \n",
       "698573          2018      6              19                        6   \n",
       "348056          2018      9               5                        5   \n",
       "\n",
       "                Total Flights  Distance  Points Accumulated  Points Redeemed  \\\n",
       "Loyalty Number                                                                 \n",
       "424812                     10      1690               169.0                0   \n",
       "694942                      2      4194               419.0                0   \n",
       "893057                     10       810                81.0                0   \n",
       "698573                     25      2525               252.0                0   \n",
       "348056                     10       660                66.0              562   \n",
       "\n",
       "                Dollar Cost Points Redeemed Country          Province  \\\n",
       "Loyalty Number                                                          \n",
       "424812                                    0  Canada  British Columbia   \n",
       "694942                                    0  Canada            Quebec   \n",
       "893057                                    0  Canada  British Columbia   \n",
       "698573                                    0  Canada  British Columbia   \n",
       "348056                                   45  Canada           Ontario   \n",
       "\n",
       "                          City Postal Code  Gender Education    Salary  \\\n",
       "Loyalty Number                                                           \n",
       "424812          West Vancouver     V6V 8Z3  Female  Bachelor  104990.0   \n",
       "694942               Tremblant     H5Y 2S9  Female    Master   85959.0   \n",
       "893057                Victoria     V10 6T5    Male  Bachelor   83224.0   \n",
       "698573            Dawson Creek     U5I 4F1  Female  Bachelor   64605.0   \n",
       "348056                  Ottawa     K1F 2R2  Female  Bachelor   63910.0   \n",
       "\n",
       "               Marital Status Loyalty Card       CLV Enrollment Type  \\\n",
       "Loyalty Number                                                         \n",
       "424812               Divorced         Nova  39365.30        Standard   \n",
       "694942               Divorced         Nova  12168.74        Standard   \n",
       "893057                Married         Nova   4061.59        Standard   \n",
       "698573                Married         Star  24723.18        Standard   \n",
       "348056                Married         Nova  10209.93        Standard   \n",
       "\n",
       "                Enrollment Year  Enrollment Month  Cancellation Year  \\\n",
       "Loyalty Number                                                         \n",
       "424812                     2015                 1                NaN   \n",
       "694942                     2014                 3                NaN   \n",
       "893057                     2016                 3                NaN   \n",
       "698573                     2013                 8                NaN   \n",
       "348056                     2017                 5                NaN   \n",
       "\n",
       "                Cancellation Month  \n",
       "Loyalty Number                      \n",
       "424812                         NaN  \n",
       "694942                         NaN  \n",
       "893057                         NaN  \n",
       "698573                         NaN  \n",
       "348056                         NaN  "
      ]
     },
     "execution_count": 70,
     "metadata": {},
     "output_type": "execute_result"
    }
   ],
   "source": [
    "#Unir los Df por merge left por que quiero todos los datos de los vuelos y los clientes \n",
    "df = df_vuelos_clientes.merge(df_datos_clientes,on = \"Loyalty Number\", how=\"left\")\n",
    "df.sample(5)"
   ]
  },
  {
   "cell_type": "code",
   "execution_count": null,
   "metadata": {},
   "outputs": [],
   "source": [
    "#Cancellation Year,Cancellation Month eliminar porque mas de un 87%  son nulos.\n",
    "df.drop(columns=['Cancellation Year', 'Cancellation Month'], axis = 1, inplace = True)#axis le digo que es una columna e inplace= True por que quiero que lo elimine del df\n"
   ]
  },
  {
   "cell_type": "code",
   "execution_count": null,
   "metadata": {},
   "outputs": [
    {
     "data": {
      "text/plain": [
       "Index(['Year', 'Month', 'Flights Booked', 'Flights with Companions',\n",
       "       'Total Flights', 'Distance', 'Points Accumulated', 'Points Redeemed',\n",
       "       'Dollar Cost Points Redeemed', 'Country', 'Province', 'City',\n",
       "       'Postal Code', 'Gender', 'Education', 'Salary', 'Marital Status',\n",
       "       'Loyalty Card', 'CLV', 'Enrollment Type', 'Enrollment Year',\n",
       "       'Enrollment Month'],\n",
       "      dtype='object')"
      ]
     },
     "execution_count": 75,
     "metadata": {},
     "output_type": "execute_result"
    }
   ],
   "source": [
    "df.columns #comprobar que se han eliminado"
   ]
  },
  {
   "cell_type": "code",
   "execution_count": null,
   "metadata": {},
   "outputs": [],
   "source": [
    "## cambiar el formato de Month y Enrollment Month  de int a texto , para poder cambiar los números por texto en los meses del año\n",
    "columnas = [\"Month\", \"Enrollment Month\"]\n",
    "for i in columnas: \n",
    "    df[i]= df[i].astype(object)\n",
    "\n"
   ]
  },
  {
   "cell_type": "code",
   "execution_count": null,
   "metadata": {},
   "outputs": [
    {
     "data": {
      "text/plain": [
       "dtype('O')"
      ]
     },
     "execution_count": 87,
     "metadata": {},
     "output_type": "execute_result"
    }
   ],
   "source": [
    "df[\"Enrollment Month\"].dtype #Controlar que ha cambiado el formato"
   ]
  },
  {
   "cell_type": "code",
   "execution_count": null,
   "metadata": {},
   "outputs": [
    {
     "data": {
      "text/plain": [
       "dtype('O')"
      ]
     },
     "execution_count": 89,
     "metadata": {},
     "output_type": "execute_result"
    }
   ],
   "source": [
    "df[\"Month\"].dtype #Controlar que ha cambiado el formato"
   ]
  },
  {
   "cell_type": "code",
   "execution_count": 90,
   "metadata": {},
   "outputs": [],
   "source": [
    "#cambiar los numeros por el texto en los mese del año\n",
    "columnas = [\"Month\", \"Enrollment Month\"]\n",
    "for i in columnas:\n",
    "    df[i]= df[i].replace({1: \"January\", 2: \"Februar\", 3: \"March\", 4: \"April\", 5: \"May\", 6:\"June\", 7:\"July\", 8:\"August\", 9 :\"September\", 10:\"October\", 11:\"November\",12:\"December\"})"
   ]
  },
  {
   "cell_type": "code",
   "execution_count": 95,
   "metadata": {},
   "outputs": [
    {
     "data": {
      "text/plain": [
       "array(['January', 'September', 'Februar', 'March', 'November', 'April',\n",
       "       'May', 'July', 'June', 'August', 'October', 'December'],\n",
       "      dtype=object)"
      ]
     },
     "execution_count": 95,
     "metadata": {},
     "output_type": "execute_result"
    }
   ],
   "source": [
    "df[\"Month\"].unique()# comprobar si estan cambiadas las columnas"
   ]
  },
  {
   "cell_type": "code",
   "execution_count": null,
   "metadata": {},
   "outputs": [
    {
     "data": {
      "text/plain": [
       "Enrollment Month\n",
       "May          36480\n",
       "December     35832\n",
       "July         35712\n",
       "November     35064\n",
       "October      35016\n",
       "August       34560\n",
       "June         34056\n",
       "September    33792\n",
       "April        33696\n",
       "March        32880\n",
       "Februar      29568\n",
       "January      28968\n",
       "Name: count, dtype: int64"
      ]
     },
     "execution_count": 96,
     "metadata": {},
     "output_type": "execute_result"
    }
   ],
   "source": [
    "df[\"Enrollment Month\"].value_counts() #comprobar si estan cambiadas las columnas"
   ]
  },
  {
   "cell_type": "code",
   "execution_count": 97,
   "metadata": {},
   "outputs": [],
   "source": [
    "# Convierte los valores negativos en la columna 'Salary' a positivos, manteniendo solo el valor absoluto.\n",
    "df['Salary'] = df['Salary'].abs()"
   ]
  },
  {
   "cell_type": "code",
   "execution_count": null,
   "metadata": {},
   "outputs": [
    {
     "data": {
      "text/plain": [
       "9081.0"
      ]
     },
     "execution_count": 100,
     "metadata": {},
     "output_type": "execute_result"
    }
   ],
   "source": [
    "df[\"Salary\"].min() #Comprobar si ha realizado el cambio"
   ]
  },
  {
   "cell_type": "code",
   "execution_count": 101,
   "metadata": {},
   "outputs": [],
   "source": [
    "#Eliminar filas duplicados\n",
    "df.drop_duplicates(subset=None,keep='first',inplace=True) #subset none(quiero eliminar las filas enteras duplicadas)keep, me quedo con la primera fila duplicada "
   ]
  },
  {
   "cell_type": "code",
   "execution_count": null,
   "metadata": {},
   "outputs": [
    {
     "data": {
      "text/plain": [
       "(403760, 22)"
      ]
     },
     "execution_count": 102,
     "metadata": {},
     "output_type": "execute_result"
    }
   ],
   "source": [
    "df.shape# Mostrar número de filas y columnas."
   ]
  },
  {
   "cell_type": "code",
   "execution_count": 112,
   "metadata": {},
   "outputs": [],
   "source": [
    "#Hay salarios nulos, como son el 25% que es un porcentaje alto, considero utilizar Iterative Imputer, que rellenara los huecos de los salarios para que la información tenga sentido\n",
    "\n",
    "imputer_iter = IterativeImputer(max_iter = 100, random_state = 42)\n",
    "df['Salary'] = imputer_iter.fit_transform(df[['Salary']])"
   ]
  },
  {
   "cell_type": "code",
   "execution_count": 113,
   "metadata": {},
   "outputs": [
    {
     "data": {
      "text/plain": [
       "Year                           0.0\n",
       "Month                          0.0\n",
       "Flights Booked                 0.0\n",
       "Flights with Companions        0.0\n",
       "Total Flights                  0.0\n",
       "Distance                       0.0\n",
       "Points Accumulated             0.0\n",
       "Points Redeemed                0.0\n",
       "Dollar Cost Points Redeemed    0.0\n",
       "Country                        0.0\n",
       "Province                       0.0\n",
       "City                           0.0\n",
       "Postal Code                    0.0\n",
       "Gender                         0.0\n",
       "Education                      0.0\n",
       "Salary                         0.0\n",
       "Marital Status                 0.0\n",
       "Loyalty Card                   0.0\n",
       "CLV                            0.0\n",
       "Enrollment Type                0.0\n",
       "Enrollment Year                0.0\n",
       "Enrollment Month               0.0\n",
       "dtype: float64"
      ]
     },
     "execution_count": 113,
     "metadata": {},
     "output_type": "execute_result"
    }
   ],
   "source": [
    "df.isnull().sum()/df_datos_clientes.shape[0]*100"
   ]
  }
 ],
 "metadata": {
  "kernelspec": {
   "display_name": "base",
   "language": "python",
   "name": "python3"
  },
  "language_info": {
   "codemirror_mode": {
    "name": "ipython",
    "version": 3
   },
   "file_extension": ".py",
   "mimetype": "text/x-python",
   "name": "python",
   "nbconvert_exporter": "python",
   "pygments_lexer": "ipython3",
   "version": "3.12.7"
  }
 },
 "nbformat": 4,
 "nbformat_minor": 2
}
